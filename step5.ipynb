{
 "cells": [
  {
   "cell_type": "markdown",
   "id": "28698c4b",
   "metadata": {},
   "source": [
    "## Executive Summary"
   ]
  },
  {
   "cell_type": "markdown",
   "id": "04f6af1c",
   "metadata": {},
   "source": [
    "This project aimed to show that a straightforward pairs trading strategy can be significantly enhanced by strategically pausing it during periods of market stress. Our approach, which relies on our indicator of upcoming high volatility as a proxy for market stress, proved highly effective in the case of  energy and gold ETF pairs, but was less effective for technology pairs. Which we had expected from the historical relationship of the pairs. The goal was to build a robust, implementable strategy that could navigate real-world market conditions for pair trading, which exploits the relationship between two assets on the same sector to exploit imbalances in the way they are valuated and gain from the return to their normal relationship without the complexity of an advanced trading model.\n",
    "\n",
    "Our analysis showed that the relationships between energy and gold ETFs were stable, allowing our simple model to generate positive cumulative returns and strong risk-adjusted returns. For these two asset classes, the strategy effectively identified and capitalized on temporary divergences, leading to profitable trades. In stark contrast, the relationships within the technology sector proved to be inherently complex and non-linear. This unpredictability meant our simple model could not accurately forecast their behavior, leading to poor performance with respect to the other two pairs. This highlights a critical lesson: a pair trading strategy's success is fundamentally tied to the inherent behavior and characteristics of the relationship of the pairs being traded, we believe the fact that technology stocks are more subject to speculative views due to rapid changes in the ecosystem might be the reason for the pair having a more complicated relationship.\n",
    "\n",
    "We evaluated two strategies, one based on the pairs only and another one which used an indicator for upcoming high volatility, which allows us to stop trading before market stress comes and we face big losses strategically patient and turning off the strategy during high-volatility periods, we successfully controlled for risk and avoided major losses in the energy and gold portfolios. This pause mechanism was the only method for managing risk that we implemented. While it prevented us from entering new positions during dangerous market conditions, it did not provide an active means of managing risk on open trades. This is why the strategy experienced significant drawdowns, which would need to be addressed with a more comprehensive risk management framework. Our project clearly shows that a more robust approach to drawdown control is essential. For instance, establishing rules to exit losing positions before they escalate would be the logical next step for improving this strategy, however these were out of the scope of the project. \n",
    "\n",
    "All of our simulations, including the summarized results, fully accounted for transaction costs, making these findings a realistic benchmark for a portfolio manager. Also notice that $50\\%$ of the trades are winning trades, while this sounds low, our winnings are a lot bigger than our losses, which allows for significant returns. Ultimately, our work proves that a simple, disciplined strategy of avoiding market turmoil can dramatically improve performance for certain asset classes. However, it must be paired with clear rules for drawdown control to be a complete and effective solution ready for real-world application."
   ]
  }
 ],
 "metadata": {
  "language_info": {
   "name": "python"
  }
 },
 "nbformat": 4,
 "nbformat_minor": 5
}
